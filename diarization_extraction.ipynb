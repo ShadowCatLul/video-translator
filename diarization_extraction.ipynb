{
 "cells": [
  {
   "cell_type": "code",
   "execution_count": 1,
   "metadata": {},
   "outputs": [],
   "source": [
    "import torch"
   ]
  },
  {
   "cell_type": "code",
   "execution_count": 2,
   "metadata": {},
   "outputs": [
    {
     "data": {
      "text/plain": [
       "'cuda'"
      ]
     },
     "execution_count": 2,
     "metadata": {},
     "output_type": "execute_result"
    }
   ],
   "source": [
    "# Проверяем, доступен ли GPU\n",
    "device = \"cuda\" if torch.cuda.is_available() else \"cpu\"\n",
    "device\n"
   ]
  },
  {
   "cell_type": "code",
   "execution_count": 1,
   "metadata": {},
   "outputs": [
    {
     "name": "stdout",
     "output_type": "stream",
     "text": [
      "\n",
      "Could not download 'pyannote/speaker-diarization-3.1' pipeline.\n",
      "It might be because the pipeline is private or gated so make\n",
      "sure to authenticate. Visit https://hf.co/settings/tokens to\n",
      "create your access token and retry with:\n",
      "\n",
      "   >>> Pipeline.from_pretrained('pyannote/speaker-diarization-3.1',\n",
      "   ...                          use_auth_token=YOUR_AUTH_TOKEN)\n",
      "\n",
      "If this still does not work, it might be because the pipeline is gated:\n",
      "visit https://hf.co/pyannote/speaker-diarization-3.1 to accept the user conditions.\n"
     ]
    },
    {
     "ename": "AttributeError",
     "evalue": "'NoneType' object has no attribute 'to'",
     "output_type": "error",
     "traceback": [
      "\u001b[1;31m---------------------------------------------------------------------------\u001b[0m",
      "\u001b[1;31mAttributeError\u001b[0m                            Traceback (most recent call last)",
      "Cell \u001b[1;32mIn[1], line 4\u001b[0m\n\u001b[0;32m      2\u001b[0m \u001b[38;5;66;03m# Загрузка предобученной модели для диаризации\u001b[39;00m\n\u001b[0;32m      3\u001b[0m pipeline \u001b[38;5;241m=\u001b[39m Pipeline\u001b[38;5;241m.\u001b[39mfrom_pretrained(\u001b[38;5;124m\"\u001b[39m\u001b[38;5;124mpyannote/speaker-diarization-3.1\u001b[39m\u001b[38;5;124m\"\u001b[39m, use_auth_token\u001b[38;5;241m=\u001b[39m\u001b[38;5;124m\"\u001b[39m\u001b[38;5;124m\"\u001b[39m)\n\u001b[1;32m----> 4\u001b[0m \u001b[43mpipeline\u001b[49m\u001b[38;5;241;43m.\u001b[39;49m\u001b[43mto\u001b[49m(torch\u001b[38;5;241m.\u001b[39mdevice(\u001b[38;5;124m\"\u001b[39m\u001b[38;5;124mcuda\u001b[39m\u001b[38;5;124m\"\u001b[39m))\n\u001b[0;32m      6\u001b[0m \u001b[38;5;66;03m# Применение диаризации на аудио файле\u001b[39;00m\n\u001b[0;32m      7\u001b[0m diarization \u001b[38;5;241m=\u001b[39m pipeline(\u001b[38;5;124m\"\u001b[39m\u001b[38;5;124maudio.wav\u001b[39m\u001b[38;5;124m\"\u001b[39m)\n",
      "\u001b[1;31mAttributeError\u001b[0m: 'NoneType' object has no attribute 'to'"
     ]
    }
   ],
   "source": [
    "from pyannote.audio import Pipeline\n",
    "# Загрузка предобученной модели для диаризации\n",
    "pipeline = Pipeline.from_pretrained(\"pyannote/speaker-diarization-3.1\", use_auth_token=\"\")\n",
    "pipeline.to(torch.device(\"cuda\"))\n",
    "\n",
    "# Применение диаризации на аудио файле\n",
    "diarization = pipeline(\"audio.wav\")\n",
    "\n",
    "# Выводим результат диаризации\n",
    "for turn, _, speaker in diarization.itertracks(yield_label=True):\n",
    "    print(f\"Speaker {speaker}: from {turn.start:.1f}s to {turn.end:.1f}s\")"
   ]
  },
  {
   "cell_type": "code",
   "execution_count": 8,
   "metadata": {},
   "outputs": [
    {
     "ename": "NameError",
     "evalue": "name 'diarization' is not defined",
     "output_type": "error",
     "traceback": [
      "\u001b[1;31m---------------------------------------------------------------------------\u001b[0m",
      "\u001b[1;31mNameError\u001b[0m                                 Traceback (most recent call last)",
      "Cell \u001b[1;32mIn[8], line 1\u001b[0m\n\u001b[1;32m----> 1\u001b[0m \u001b[43mdiarization\u001b[49m\n",
      "\u001b[1;31mNameError\u001b[0m: name 'diarization' is not defined"
     ]
    }
   ],
   "source": [
    "diarization"
   ]
  },
  {
   "cell_type": "code",
   "execution_count": 2,
   "metadata": {},
   "outputs": [
    {
     "ename": "ModuleNotFoundError",
     "evalue": "No module named 'whisper'",
     "output_type": "error",
     "traceback": [
      "\u001b[1;31m---------------------------------------------------------------------------\u001b[0m",
      "\u001b[1;31mModuleNotFoundError\u001b[0m                       Traceback (most recent call last)",
      "Cell \u001b[1;32mIn[2], line 1\u001b[0m\n\u001b[1;32m----> 1\u001b[0m \u001b[38;5;28;01mimport\u001b[39;00m \u001b[38;5;21;01mwhisper\u001b[39;00m\n\u001b[0;32m      2\u001b[0m \u001b[38;5;66;03m# Загружаем модель Whisper\u001b[39;00m\n\u001b[0;32m      3\u001b[0m model \u001b[38;5;241m=\u001b[39m whisper\u001b[38;5;241m.\u001b[39mload_model(\u001b[38;5;124m\"\u001b[39m\u001b[38;5;124mmedium\u001b[39m\u001b[38;5;124m\"\u001b[39m, device\u001b[38;5;241m=\u001b[39mdevice)\n",
      "\u001b[1;31mModuleNotFoundError\u001b[0m: No module named 'whisper'"
     ]
    }
   ],
   "source": [
    "import whisper\n",
    "# Загружаем модель Whisper\n",
    "model = whisper.load_model(\"medium\", device=device)"
   ]
  },
  {
   "cell_type": "code",
   "execution_count": 3,
   "metadata": {},
   "outputs": [
    {
     "ename": "NameError",
     "evalue": "name 'model' is not defined",
     "output_type": "error",
     "traceback": [
      "\u001b[1;31m---------------------------------------------------------------------------\u001b[0m",
      "\u001b[1;31mNameError\u001b[0m                                 Traceback (most recent call last)",
      "Cell \u001b[1;32mIn[3], line 2\u001b[0m\n\u001b[0;32m      1\u001b[0m \u001b[38;5;66;03m# Распознаем речь с аудио файла\u001b[39;00m\n\u001b[1;32m----> 2\u001b[0m result \u001b[38;5;241m=\u001b[39m \u001b[43mmodel\u001b[49m\u001b[38;5;241m.\u001b[39mtranscribe(\u001b[38;5;124m\"\u001b[39m\u001b[38;5;124maudio.wav\u001b[39m\u001b[38;5;124m\"\u001b[39m)\n\u001b[0;32m      4\u001b[0m \u001b[38;5;66;03m# Выводим 100 символов результата\u001b[39;00m\n\u001b[0;32m      5\u001b[0m \u001b[38;5;28mprint\u001b[39m(result[\u001b[38;5;124m'\u001b[39m\u001b[38;5;124mtext\u001b[39m\u001b[38;5;124m'\u001b[39m][:\u001b[38;5;241m100\u001b[39m])\n",
      "\u001b[1;31mNameError\u001b[0m: name 'model' is not defined"
     ]
    }
   ],
   "source": [
    "\n",
    "# Распознаем речь с аудио файла\n",
    "result = model.transcribe(\"audio.wav\")\n",
    "\n",
    "# Выводим 100 символов результата\n",
    "print(result['text'][:100])"
   ]
  },
  {
   "cell_type": "code",
   "execution_count": 4,
   "metadata": {},
   "outputs": [
    {
     "ename": "NameError",
     "evalue": "name 'result' is not defined",
     "output_type": "error",
     "traceback": [
      "\u001b[1;31m---------------------------------------------------------------------------\u001b[0m",
      "\u001b[1;31mNameError\u001b[0m                                 Traceback (most recent call last)",
      "Cell \u001b[1;32mIn[4], line 5\u001b[0m\n\u001b[0;32m      2\u001b[0m dialogue \u001b[38;5;241m=\u001b[39m []\n\u001b[0;32m      4\u001b[0m \u001b[38;5;66;03m# Проходим по каждому сегменту, который вернул Whisper\u001b[39;00m\n\u001b[1;32m----> 5\u001b[0m \u001b[38;5;28;01mfor\u001b[39;00m segment \u001b[38;5;129;01min\u001b[39;00m \u001b[43mresult\u001b[49m[\u001b[38;5;124m'\u001b[39m\u001b[38;5;124msegments\u001b[39m\u001b[38;5;124m'\u001b[39m]:\n\u001b[0;32m      6\u001b[0m     \u001b[38;5;66;03m# Для каждого сегмента ищем говорящего в диаризации\u001b[39;00m\n\u001b[0;32m      7\u001b[0m     \u001b[38;5;28;01mfor\u001b[39;00m turn, _, speaker \u001b[38;5;129;01min\u001b[39;00m diarization\u001b[38;5;241m.\u001b[39mitertracks(yield_label\u001b[38;5;241m=\u001b[39m\u001b[38;5;28;01mTrue\u001b[39;00m):\n\u001b[0;32m      8\u001b[0m         \u001b[38;5;28;01mif\u001b[39;00m turn\u001b[38;5;241m.\u001b[39mstart \u001b[38;5;241m<\u001b[39m\u001b[38;5;241m=\u001b[39m segment[\u001b[38;5;124m'\u001b[39m\u001b[38;5;124mstart\u001b[39m\u001b[38;5;124m'\u001b[39m] \u001b[38;5;241m<\u001b[39m\u001b[38;5;241m=\u001b[39m turn\u001b[38;5;241m.\u001b[39mend:\n\u001b[0;32m      9\u001b[0m             \u001b[38;5;66;03m# Если последний спикер такой же, как текущий, объединяем текст\u001b[39;00m\n",
      "\u001b[1;31mNameError\u001b[0m: name 'result' is not defined"
     ]
    }
   ],
   "source": [
    "# Список для хранения результата\n",
    "dialogue = []\n",
    "\n",
    "# Проходим по каждому сегменту, который вернул Whisper\n",
    "for segment in result['segments']:\n",
    "    # Для каждого сегмента ищем говорящего в диаризации\n",
    "    for turn, _, speaker in diarization.itertracks(yield_label=True):\n",
    "        if turn.start <= segment['start'] <= turn.end:\n",
    "            # Если последний спикер такой же, как текущий, объединяем текст\n",
    "            if dialogue and dialogue[-1][0] == speaker:\n",
    "                dialogue[-1][1] += \" \" + segment['text']  # Объединяем текст\n",
    "            else:\n",
    "                dialogue.append([speaker, segment['text']])  # Добавляем новый сегмент\n",
    "            break\n",
    "\n",
    "# Выводим результат\n",
    "for entry in dialogue:\n",
    "    print(f\"Speaker {entry[0]}: {entry[1]}\")"
   ]
  },
  {
   "cell_type": "code",
   "execution_count": 5,
   "metadata": {},
   "outputs": [],
   "source": [
    "import re\n",
    "\n",
    "# Функция для поиска последнего знака препинания в тексте\n",
    "def find_last_punctuation(text):\n",
    "    match = re.search(r'[.!?](?!.*[.!?])', text)  # Ищем последний знак препинания\n",
    "    if match:\n",
    "        return match.end()\n",
    "    return None\n",
    "\n",
    "# Проходим по диалогу и перераспределяем текст\n",
    "i = 0\n",
    "while i < len(dialogue) - 1:\n",
    "    speaker, text = dialogue[i]\n",
    "    \n",
    "    # Если текст не заканчивается на . ! или ?\n",
    "    if not re.search(r'[.!?]$', text):\n",
    "        # Находим позицию последнего знака препинания\n",
    "        last_punctuation_pos = find_last_punctuation(text)\n",
    "        \n",
    "        if last_punctuation_pos:\n",
    "            # Разделяем текст на две части\n",
    "            main_text = text[:last_punctuation_pos]\n",
    "            leftover_text = text[last_punctuation_pos:].strip()\n",
    "            \n",
    "            # Обновляем текущий текст с правильным окончанием\n",
    "            dialogue[i][1] = main_text\n",
    "            \n",
    "            # Добавляем оставшийся текст к следующему спикеру\n",
    "\n",
    "            dialogue[i + 1][1] = leftover_text + dialogue[i + 1][1]\n",
    "    \n",
    "    i += 1\n",
    "\n",
    "# Выводим результат\n",
    "for speaker, text in dialogue:\n",
    "    print(f\"Speaker {speaker}: {text}\")"
   ]
  },
  {
   "cell_type": "code",
   "execution_count": 6,
   "metadata": {},
   "outputs": [],
   "source": [
    "# Функция для очистки текста от лишних пробелов\n",
    "def clean_text(text):\n",
    "    # Удаляем лишние пробелы в начале и конце строки\n",
    "    text = text.strip()\n",
    "    # Заменяем последовательности из двух или более пробелов на один пробел\n",
    "    text = re.sub(r'\\s{2,}', ' ', text)\n",
    "    return text\n",
    "\n",
    "# Проходим по каждому сегменту диалога и очищаем текст\n",
    "for i in range(len(dialogue)):\n",
    "    speaker, text = dialogue[i]\n",
    "    dialogue[i][1] = clean_text(text)\n",
    "\n",
    "# Выводим результат\n",
    "for speaker, text in dialogue:\n",
    "    print(f\"{speaker}: {text}\")\n"
   ]
  },
  {
   "cell_type": "markdown",
   "metadata": {},
   "source": [
    "Сохраняем"
   ]
  },
  {
   "cell_type": "code",
   "execution_count": 7,
   "metadata": {},
   "outputs": [
    {
     "name": "stdout",
     "output_type": "stream",
     "text": [
      "Диалог сохранен в файл 'dialogue.txt'.\n"
     ]
    }
   ],
   "source": [
    "# Функция для сохранения диалога в текстовый файл\n",
    "def save_dialogue_to_file(dialogue, filename):\n",
    "    with open(filename, 'w', encoding='utf-8') as file:\n",
    "        for speaker, text in dialogue:\n",
    "            file.write(f\"{speaker}: {text}\\n\")\n",
    "\n",
    "# Сохраняем диалог в файл\n",
    "save_dialogue_to_file(dialogue, 'dialogue.txt')\n",
    "\n",
    "print(\"Диалог сохранен в файл 'dialogue.txt'.\")"
   ]
  },
  {
   "cell_type": "code",
   "execution_count": null,
   "metadata": {},
   "outputs": [],
   "source": []
  }
 ],
 "metadata": {
  "kernelspec": {
   "display_name": "torch-env",
   "language": "python",
   "name": "python3"
  },
  "language_info": {
   "codemirror_mode": {
    "name": "ipython",
    "version": 3
   },
   "file_extension": ".py",
   "mimetype": "text/x-python",
   "name": "python",
   "nbconvert_exporter": "python",
   "pygments_lexer": "ipython3",
   "version": "3.11.6"
  }
 },
 "nbformat": 4,
 "nbformat_minor": 2
}
